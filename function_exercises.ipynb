{
 "cells": [
  {
   "cell_type": "code",
   "execution_count": 1,
   "id": "97b9a72b",
   "metadata": {},
   "outputs": [],
   "source": [
    "#1\n",
    "\n",
    "def is_two(x):\n",
    "    return x==2 or x== '2'"
   ]
  },
  {
   "cell_type": "code",
   "execution_count": null,
   "id": "56c0d802",
   "metadata": {},
   "outputs": [],
   "source": [
    "#2\n",
    "\n",
    "def is_vowel(char):\n",
    "    return char.lower() in 'aeiou'"
   ]
  },
  {
   "cell_type": "code",
   "execution_count": null,
   "id": "d66803d1",
   "metadata": {},
   "outputs": [],
   "source": [
    "#3\n",
    "\n",
    "def isConsonant(char):\n",
    "    return char.lower() in 'bcdfghjklmnpqrstvwxyz'"
   ]
  },
  {
   "cell_type": "code",
   "execution_count": null,
   "id": "b04b5373",
   "metadata": {},
   "outputs": [],
   "source": [
    "#4\n",
    "\n"
   ]
  },
  {
   "cell_type": "code",
   "execution_count": null,
   "id": "4677f01f",
   "metadata": {},
   "outputs": [],
   "source": [
    "#5 Calculate Tip\n",
    "\n",
    "meal= float (input(\"Enter your meal amount\"))\n",
    "tip= int (input(\"Enter your tip %:\"))\n",
    "tax= .06\n",
    "    \n",
    "\n",
    "#calcs\n",
    "tip_amt = meal * tip/100\n",
    "tax_amt= meal *tax \n",
    "total = meal + tip_amt +tax_amt \n",
    "\n",
    "print(f\"Your meal was ${meal} and your tip is ${tip_amt}.\")\n",
    "print(f\"Your totalwith tax is {total}.\")"
   ]
  },
  {
   "cell_type": "code",
   "execution_count": null,
   "id": "cf44a9ef",
   "metadata": {},
   "outputs": [],
   "source": []
  },
  {
   "cell_type": "code",
   "execution_count": null,
   "id": "93e9df8d",
   "metadata": {},
   "outputs": [],
   "source": [
    "#6 apply discount\n",
    "\n",
    "# input sale amount\n",
    "amt = int(input(\"Enter Sale Amount: \"))\n",
    "\n",
    "# checking conditions and calculating discount\n",
    "if(amt>0):\n",
    "    if amt<=5000:\n",
    "       disc = amt*0.05\n",
    "    elif amt<=15000:\n",
    "        disc=amt*0.12\n",
    "    elif amt<=25000:\n",
    "        disc=0.2 * amt\n",
    "    else:\n",
    "         disc=0.3 * amt\n",
    "\n",
    "    print(\"Discount : \",disc)\n",
    "    print(\"Net Pay  : \",amt-disc)\n",
    "else:\n",
    "    print(\"Invalid Amount\")"
   ]
  },
  {
   "cell_type": "code",
   "execution_count": null,
   "id": "66a92991",
   "metadata": {},
   "outputs": [],
   "source": [
    "# 7 Handle commas\n",
    "\n"
   ]
  },
  {
   "cell_type": "code",
   "execution_count": null,
   "id": "0c2de6b2",
   "metadata": {},
   "outputs": [],
   "source": [
    "#8 get_letter_ grade \n",
    "\n",
    "# letter_grade_converter_function.py\n",
    "#   This program accepts an exam score as input and prints out\n",
    "#   the corresponding grade using a function.\n",
    "# by: Scott Gordon\n",
    "\n",
    "def main():\n",
    "    # Write welcome message.\n",
    "    print(\"***** Welcome to The Letter Grade Calculator *****\")\n",
    "\n",
    "    # Get input from user and assign it to score variable.\n",
    "\n",
    "    score = int(input(\"Enter your exam score: \"))\n",
    "\n",
    "    def letter_grade_converter(score):\n",
    "\n",
    "        # Use branching control statements to associate the score\n",
    "        #       with the letter grade.\n",
    "        letter_grade = \"\"\n",
    "        if score < 60:\n",
    "            letter_grade = \"F\"\n",
    "        elif score < 70:\n",
    "            letter_grade = \"D\"\n",
    "        elif score < 80:\n",
    "            letter_grade = \"C\"\n",
    "        elif score < 90:\n",
    "            letter_grade = \"B\"\n",
    "        elif score < 100:\n",
    "            letter_grade = \"A\"\n",
    "\n",
    "        # Print out the corresponding grade.\n",
    "        return f\"Your letter grade is {letter_grade}.\"\n",
    "\n",
    "    print(letter_grade_converter(score))\n",
    "\n",
    "\n",
    "main()"
   ]
  },
  {
   "cell_type": "code",
   "execution_count": null,
   "id": "c65f16dd",
   "metadata": {},
   "outputs": [],
   "source": []
  }
 ],
 "metadata": {
  "kernelspec": {
   "display_name": "Python 3 (ipykernel)",
   "language": "python",
   "name": "python3"
  },
  "language_info": {
   "codemirror_mode": {
    "name": "ipython",
    "version": 3
   },
   "file_extension": ".py",
   "mimetype": "text/x-python",
   "name": "python",
   "nbconvert_exporter": "python",
   "pygments_lexer": "ipython3",
   "version": "3.9.7"
  }
 },
 "nbformat": 4,
 "nbformat_minor": 5
}
